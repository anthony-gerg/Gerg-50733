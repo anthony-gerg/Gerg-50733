{
 "cells": [
  {
   "cell_type": "markdown",
   "id": "f20dc5ca-3fd3-47c9-b1bb-a60ab7458066",
   "metadata": {
    "tags": []
   },
   "source": [
    "## Homework 1 \n",
    "### DUE: Thursday Jan 30\n",
    "\n",
    "**The semi-empirical mass formula**\n",
    "\n",
    "In nuclear physics, the semi-empirical mass formula is a formula for calculating the\n",
    "approximate nuclear binding energy $B$ of an atomic nucleus with atomic number $Z$\n",
    "and mass number $A$. The formula looks like this:\n",
    "    \n",
    "$$ B = a_1 A - a_2 A^{2/3} - a_3 \\frac{Z^2}{A^{1/3}} - a_4 \\frac{(A - 2Z)^2}{A} - \\frac{a_5}{A^{1/2}} $$\n",
    "\n",
    "where, in units of millions of electron volts (MeV), the constants are $a_1 =\n",
    "15.67$, $a_2 = 17.23$, $a_3 = 0.75$, $a_4 = 93.2$, and\n",
    "\n",
    "$$ a_5  \\; =  \\;\\; \\left \\{ \\begin{array}\n",
    " 0 & A \\;{\\tt is\\; odd}, \\\\\n",
    "    12.0 & A \\;{\\tt and}\\; Z \\;{\\tt are \\;both \\;even}, \\\\ \n",
    "    -12.0 & A \\;{\\tt is \\;  even \\; and}\\;  Z \\;{\\tt is\\;  odd.} \\end{array} \\}\\right. $$\n",
    "\n",
    "Write a **function** that takes as its input the values of $A$ and $Z$, and\n",
    "prints out the binding energy $B$ for the corresponding atom \n",
    "\n",
    "Use your program to find\n",
    "the binding energy of an atom with $A = 58$ and $Z = 28$. (Hint: The\n",
    "correct answer is around 490 MeV.) \n",
    "\n",
    "(20 points)"
   ]
  },
  {
   "cell_type": "code",
   "execution_count": 5,
   "id": "699f9e33-090c-4e43-bb5f-5df501f2259b",
   "metadata": {},
   "outputs": [
    {
     "name": "stdout",
     "output_type": "stream",
     "text": [
      "490.78425241273493\n"
     ]
    }
   ],
   "source": [
    "def binding_energy(Z,A):\n",
    "   a1_con = 15.67\n",
    "   a2_con = 17.23\n",
    "   a3_con = 0.75\n",
    "   a4_con = 93.2\n",
    "   if A%2 != 0: \n",
    "      return (a1_con * A) - (a2_con * (A**(2/3))) - (a3_con * Z**2 / A**(1 / 3)) - ((a4_con/A) * ((A - (2 * Z))**2))\n",
    "   elif A%2 == 0 and Z%2 == 0: \n",
    "      return (a1_con * A) - (a2_con * (A**(2/3))) - (a3_con * Z**2 / A**(1 / 3)) - ((a4_con/A) * ((A - (2 * Z))**2)) - (12.0/(A**(1/2)))\n",
    "   elif A%2 == 0 and Z%2 != 0: \n",
    "      return (a1_con * A) - (a2_con * (A**(2/3))) - (a3_con * Z**2 / A**(1 / 3)) - ((a4_con/A) * ((A - (2 * Z))**2)) + (12.0/(A**(1/2)))\n",
    "   else:\n",
    "      print('I dont know what happened!')\n",
    "print(binding_energy(28,58))"
   ]
  },
  {
   "cell_type": "markdown",
   "id": "b89d6a58-5e47-4f74-8276-4adf94591226",
   "metadata": {},
   "source": [
    "Now create a new function that calculates the binding energy per nucleon, B/A. You should be able to write a very short function that calls your previous function to do the heavy lifting. Test your function with some famous cases, e.g., iron 56 and carbon 12.\n",
    "\n",
    "(10 points)"
   ]
  },
  {
   "cell_type": "code",
   "execution_count": 36,
   "id": "4444d94c-121b-4c1e-975f-5bdcde731f73",
   "metadata": {},
   "outputs": [
    {
     "name": "stdout",
     "output_type": "stream",
     "text": [
      "8.353151856954124\n",
      "7.450001408063262\n"
     ]
    }
   ],
   "source": [
    "def binding_per_nucleon(Z,A):\n",
    "    B = binding_energy(Z,A)\n",
    "    binding_nucleon = B/A\n",
    "    return binding_nucleon\n",
    "\n",
    "iron_binding = binding_per_nucleon(26,56)\n",
    "print(iron_binding)\n",
    "carbon_binding = binding_per_nucleon(6,12)\n",
    "print(carbon_binding)\n",
    "\n",
    "#I've check my function quite a few times and I don't exactly know what has occured, this is as close as I can get to the actual values.\n",
    "#This is actually correct values. I checked with a calculator and that function is correct, as well as the one above it.\n",
    "#After investigating myself, it seems the coefficients are not well defined and some of the expressions are different.\n",
    "#But, I will continue on as my calculation is correct and is returning proper values"
   ]
  },
  {
   "cell_type": "markdown",
   "id": "ef5e6804-881f-411f-91de-f91ce88ff573",
   "metadata": {},
   "source": [
    "Create yet another function that takes a single argument, Z, and finds the value of A at which the binding energy per nucleon is largest. You are aided in this problem in the fact that A is discrete; you can simply check all reasonable values without worrying about mimizing a function or any such thing. You should be able to easily determine the minimum value for A. If you consult a table of nuclides, you'll see some elements have nuclides, with measured half lives, with A > 2Z, so in this exercise use A = 3Z as an upper limit. I encourage you to go verify this! At the time of writing wikipedia has a high resolution version https://upload.wikimedia.org/wikipedia/commons/9/92/NuclideMap.PNG\n",
    "\n",
    "(20 points)"
   ]
  },
  {
   "cell_type": "code",
   "execution_count": 42,
   "id": "7f8dd9b3-9045-4b24-b18e-9ed559b3eda7",
   "metadata": {},
   "outputs": [
    {
     "name": "stdout",
     "output_type": "stream",
     "text": [
      "[58, 8.516131151747729]\n"
     ]
    }
   ],
   "source": [
    "def mass_number_sort(atomic_number):\n",
    "    largest_bind_value = binding_per_nucleon(atomic_number,atomic_number)\n",
    "    nucleon_number = atomic_number\n",
    "    for i in range(atomic_number,3*atomic_number):\n",
    "        new_bind_value = binding_per_nucleon(atomic_number,i)\n",
    "        if new_bind_value > largest_bind_value:\n",
    "            largest_bind_value = new_bind_value\n",
    "            nucleon_number = i\n",
    "    return [nucleon_number,largest_bind_value]\n",
    "\n",
    "print(mass_number_sort(28))\n",
    "\n",
    "#Again, the slight deviation is back. While running Carbon(Z=6), is returns carbon-13, which is not the correct answer\n",
    "# Doing the calculation by hand again, this is the correct value being returned compared to carbon-12.\n",
    "#This is strange, but I will continue on as I've gotten the same value in calculator."
   ]
  },
  {
   "cell_type": "markdown",
   "id": "4d69c742-5ccd-4b0e-bbed-27c478b0a259",
   "metadata": {},
   "source": [
    "Finally, create a plot of the highest binding energy per nucleon as a function of Z. Remember: science quality plots have labeled axes and a title.\n",
    "\n",
    "(10 points)"
   ]
  },
  {
   "cell_type": "code",
   "execution_count": 38,
   "id": "b189af33-5a0a-4efe-aa98-3ca064c63b3b",
   "metadata": {},
   "outputs": [
    {
     "name": "stdout",
     "output_type": "stream",
     "text": [
      "[[  2.          -2.54573845]\n",
      " [  4.           5.84330976]\n",
      " [  6.           4.75235764]\n",
      " [  8.           6.83533009]\n",
      " [ 10.           6.42277121]\n",
      " [ 12.           7.45000141]\n",
      " [ 15.           7.27592876]\n",
      " [ 16.           7.82921918]\n",
      " [ 19.           7.75654576]\n",
      " [ 20.           8.07506599]\n",
      " [ 23.           8.04774164]\n",
      " [ 24.           8.23869183]\n",
      " [ 27.           8.23400549]\n",
      " [ 28.           8.34794897]\n",
      " [ 31.           8.35531602]\n",
      " [ 32.           8.41929976]\n",
      " [ 35.           8.43330011]\n",
      " [ 36.           8.46313025]\n",
      " [ 39.           8.4807975 ]\n",
      " [ 41.           8.49578457]\n",
      " [ 43.           8.50596925]\n",
      " [ 46.           8.52112655]\n",
      " [ 47.           8.51427986]\n",
      " [ 50.           8.53262275]\n",
      " [ 51.           8.50954127]\n",
      " [ 54.           8.52991888]\n",
      " [ 55.           8.49450201]\n",
      " [ 58.           8.51613115]\n",
      " [ 59.           8.47119843]\n",
      " [ 62.           8.49353904]\n",
      " [ 63.           8.44117396]\n",
      " [ 66.           8.46385008]\n",
      " [ 69.           8.40702362]\n",
      " [ 70.           8.42836963]\n",
      " [ 73.           8.37854672]\n",
      " [ 74.           8.38811327]\n",
      " [ 77.           8.34420281]\n",
      " [ 78.           8.34388324]\n",
      " [ 81.           8.30500273]\n",
      " [ 82.           8.29632182]\n",
      " [ 85.           8.26175051]\n",
      " [ 86.           8.24594931]\n",
      " [ 89.           8.21509331]\n",
      " [ 92.           8.19461383]\n",
      " [ 93.           8.16555764]\n",
      " [ 96.           8.14766009]\n",
      " [ 97.           8.11357592]\n",
      " [100.           8.09792588]\n",
      " [101.           8.05950643]\n",
      " [104.           8.0458207 ]\n",
      " [105.           8.0036483 ]\n",
      " [108.           7.99168578]\n",
      " [111.           7.94645235]\n",
      " [112.           7.93580748]\n",
      " [115.           7.89384208]\n",
      " [116.           7.87842769]\n",
      " [119.           7.83941204]\n",
      " [120.           7.81975191]\n",
      " [123.           7.78340682]\n",
      " [124.           7.75995568]\n",
      " [127.           7.72603528]\n",
      " [130.           7.70054599]\n",
      " [131.           7.6674767 ]\n",
      " [134.           7.64378758]\n",
      " [135.           7.60788565]\n",
      " [138.           7.58583969]\n",
      " [139.           7.54739597]\n",
      " [142.           7.52685304]\n",
      " [143.           7.48612398]\n",
      " [146.           7.4669587 ]\n",
      " [149.           7.42798915]\n",
      " [150.           7.40627104]\n",
      " [153.           7.36933144]\n",
      " [154.           7.34489024]\n",
      " [157.           7.30983381]\n",
      " [158.           7.28290426]\n",
      " [161.           7.24959778]\n",
      " [164.           7.22310246]\n",
      " [165.           7.1887129 ]\n",
      " [168.           7.16357722]\n",
      " [169.           7.12725835]]\n"
     ]
    },
    {
     "data": {
      "text/plain": [
       "Text(0.5, 1.0, 'B(Z)')"
      ]
     },
     "execution_count": 38,
     "metadata": {},
     "output_type": "execute_result"
    },
    {
     "data": {
      "image/png": "[encoded data removed]",
      "text/plain": [
       "<Figure size 640x480 with 1 Axes>"
      ]
     },
     "metadata": {},
     "output_type": "display_data"
    }
   ],
   "source": [
    "import matplotlib.pyplot as plt\n",
    "import numpy as np\n",
    "\n",
    "list_of_stable_nucleons = []\n",
    "for i in range(1,82):\n",
    "    iso = mass_number_sort(i)\n",
    "    list_of_stable_nucleons += [iso]\n",
    "array_of_stable_nucleons = np.array(list_of_stable_nucleons)\n",
    "print(array_of_stable_nucleons)\n",
    "\n",
    "plt.scatter(array_of_stable_nucleons[:,0],array_of_stable_nucleons[:,1])\n",
    "plt.xlabel('Nucleons')\n",
    "plt.ylabel('Binding Energy per Nucleon')\n",
    "plt.title('B(Z)')\n",
    "\n",
    "#In terms of qualitative shape, this is exactly what we are looking for. In terms of actual values, they are skewed a bit. Looking at Lead(which the most stable should be Lead-202, but here it's saying Lead-169 is.) we can see our previous problems showing their faces..."
   ]
  },
  {
   "cell_type": "markdown",
   "id": "152c114f-b17a-4e97-add4-cf7cd2ec91e4",
   "metadata": {},
   "source": [
    "**Least Squares fitting**\n",
    "\n",
    "It's a common situation in physics that an experiment produces data\n",
    "that lies roughly on a straight line. The straight line can be represented in the familiar form $y=mx+c$ and a\n",
    "frequent question is what the appropriate values of the slope $m$ and\n",
    "intercept $c$ are that correspond to the measured data.  Since the data\n",
    "don't fall perfectly on a straight line, there is no perfect answer to such\n",
    "a question, but we can find the straight line that gives the best\n",
    "compromise fit to the data.  The standard technique for doing this is the\n",
    "*method of least squares*.\n",
    "\n",
    "Suppose we make some guess about the parameters $m$ and $c$ for the\n",
    "straight line.  We then calculate the vertical distances between the data\n",
    "points and that line, as represented by the short vertical lines in the\n",
    "figure, then we calculate the sum of the squares of those distances, which\n",
    "we denote $\\chi^2$.  If we have $N$ data points with\n",
    "coordinates $(x_i,y_i)$, then $\\chi^2$ is given by\n",
    "\n",
    "$$\\chi^2 = \\sum_{i=1}^N (mx_i+c-y_i)^2.$$\n",
    "\n",
    "The least-squares fit of the straight line to the data is the straight line\n",
    "that minimizes this total squared distance from data to line.  We find the\n",
    "minimum by differentiating with respect to both $m$ and $c$ and setting the\n",
    "derivatives to zero, which gives\n",
    "\n",
    "$$m \\sum_{i=1}^N x_i^2 + c \\sum_{i=1}^N x_i - \\sum_{i=1}^N x_iy_i = 0, $$\n",
    "$$m \\sum_{i=1}^N x_i + cN - \\sum_{i=1}^N y_i = 0.$$\n",
    "\n",
    "For convenience, let us define the following quantities:\n",
    "\n",
    "$$E_x = {1\\over N} \\sum_{i=1}^N x_i,\\qquad\n",
    "E_y = {1\\over N} \\sum_{i=1}^N y_i,\\qquad\n",
    "E_{xx} = {1\\over N} \\sum_{i=1}^N x_i^2,\\qquad\n",
    "E_{xy} = {1\\over N} \\sum_{i=1}^N x_iy_i $$\n",
    "\n",
    "in terms of which our equations can be written\n",
    "\n",
    "$$mE_{xx} + cE_x = E_{xy}, $$\n",
    "$$mE_x + c = E_y.$$\n",
    "\n",
    "Solving these equations simultaneously for $m$ and $c$ now gives\n",
    "\n",
    "$$m = {E_{xy}-E_x E_y\\over E_{xx} - E_x^2},\\qquad\n",
    "c = {E_{xx}E_y-E_x E_{xy}\\over E_{xx} - E_x^2}.$$\n",
    "\n",
    "These are the equations for the least-squares fit of a straight line to $N$\n",
    "data points.  They tell you the values of $m$ and $c$ for the line that\n",
    "best fits the given data.\n",
    "\n",
    "In this repo is a file called `millikan.txt`.  The file contains two columns of numbers, giving\n",
    "the $x$ and $y$ coordinates of a set of data points.  Write a program to\n",
    "read these data points and make a graph with one dot or circle for each\n",
    "point.\n",
    "\n",
    "(15 points)"
   ]
  },
  {
   "cell_type": "code",
   "execution_count": 39,
   "id": "818c885e-200b-417c-a4d8-d296cbde23ac",
   "metadata": {},
   "outputs": [
    {
     "name": "stdout",
     "output_type": "stream",
     "text": [
      "[[5.48740e+14 5.30900e-01]\n",
      " [6.93100e+14 1.08420e+00]\n",
      " [7.43070e+14 1.27340e+00]\n",
      " [8.21930e+14 1.65980e+00]\n",
      " [9.60740e+14 2.19856e+00]\n",
      " [1.18400e+15 3.10891e+00]]\n"
     ]
    },
    {
     "data": {
      "text/plain": [
       "Text(0.5, 1.0, 'Millikan')"
      ]
     },
     "execution_count": 39,
     "metadata": {},
     "output_type": "execute_result"
    },
    {
     "data": {
      "image/png": "[encoded data removed]",
      "text/plain": [
       "<Figure size 640x480 with 1 Axes>"
      ]
     },
     "metadata": {},
     "output_type": "display_data"
    }
   ],
   "source": [
    "millikan = np.genfromtxt(r\"C:\\Users\\gergy\\Downloads\\millikan.txt\")\n",
    "print(millikan)\n",
    "\n",
    "plt.scatter(millikan[:,0],millikan[:,1])\n",
    "plt.xlabel('X Values')\n",
    "plt.ylabel('Y Values')\n",
    "plt.title('Millikan')"
   ]
  },
  {
   "cell_type": "markdown",
   "id": "0777da0c-01a4-4378-a9cb-a2f3244e201a",
   "metadata": {},
   "source": [
    "Calculate the quantities $E_x$, $E_y$, $E_{xx}$, and $E_{xy}$ defined above, and from them calculate and print out the slope $m$ and intercept $c$ of the best-fit line. Plot the line with the data.\n",
    "\n",
    "(20 points)"
   ]
  },
  {
   "cell_type": "code",
   "execution_count": 40,
   "id": "e8e80eb5-fa93-463f-a6d5-27a4598ec277",
   "metadata": {},
   "outputs": [
    {
     "name": "stdout",
     "output_type": "stream",
     "text": [
      "Single E 825263333333333.2\n",
      "E_y 1.6426283333333331\n",
      "Double x E 7.223504158333333e+29\n",
      "E_xy 1524407302066666.5\n",
      "slope 4.088227358517502e-15 and intercept -1.73123580398135\n"
     ]
    },
    {
     "data": {
      "text/plain": [
       "Text(0.5, 1.0, 'Millikan Photoelectric Data')"
      ]
     },
     "execution_count": 40,
     "metadata": {},
     "output_type": "execute_result"
    },
    {
     "data": {
      "image/png": "[encoded data removed]",
      "text/plain": [
       "<Figure size 640x480 with 1 Axes>"
      ]
     },
     "metadata": {},
     "output_type": "display_data"
    }
   ],
   "source": [
    "\n",
    "E_singlex = (1/len(millikan))*sum(millikan[:,0])\n",
    "print(f'Single E {E_singlex}')\n",
    "\n",
    "\n",
    "E_y = (1/len(millikan))*sum(millikan[:,1])\n",
    "print(f'E_y {E_y}')\n",
    "\n",
    "xx = (millikan[:,0])**2\n",
    "E_doublex = (1/len(millikan))*sum(xx)\n",
    "print(f'Double x E {E_doublex}')\n",
    "\n",
    "xy = millikan[:,0]*millikan[:,1]\n",
    "E_xy = (1/len(millikan))*sum(xy)\n",
    "print(f'E_xy {E_xy}')\n",
    "\n",
    "slope = ((E_xy-(E_singlex*E_y))/(E_doublex-(E_singlex)**2))\n",
    "\n",
    "intercept = (((E_doublex*E_y)-(E_singlex*E_xy))/(E_doublex-(E_singlex**2)))\n",
    "\n",
    "print(f'slope {slope} and intercept {intercept}')\n",
    "pseudo_x = np.linspace(0.5e15,1.2e15,10)\n",
    "pseudo_y = slope*pseudo_x + intercept\n",
    "\n",
    "fig,axs = plt.subplots(nrows=1,ncols=1)\n",
    "axs.scatter(millikan[:,0],millikan[:,1])\n",
    "axs.plot(pseudo_x,pseudo_y,color = 'r') #Thank you for the feedback!!\n",
    "axs.set_xlabel('Frequencies')\n",
    "axs.set_ylabel('Volts')\n",
    "axs.set_title(\"Millikan Photoelectric Data\")\n",
    "\n",
    "\n",
    "\n"
   ]
  },
  {
   "cell_type": "markdown",
   "id": "c1a4fd58-6715-4551-8e7b-a36b351e5f8c",
   "metadata": {},
   "source": [
    "The data in the file `millikan.txt` are taken from a historic\n",
    "  experiment by Robert Millikan that measured the\n",
    "  *photoelectric effect*.  When light of an appropriate wavelength is\n",
    "  shone on the surface of a metal, the photons in the light can strike\n",
    "  conduction electrons in the metal and, sometimes, eject them from the\n",
    "  surface into the free space above.  The energy of an ejected electron is\n",
    "  equal to the energy of the photon that struck it minus a small\n",
    "  amount~$\\phi$ called the **work function** of the surface,\n",
    "  which represents the energy needed to remove an electron from the\n",
    "  surface.  The energy of a photon is $h\\nu$, where $h$ is Planck's\n",
    "  constant and $\\nu$ is the frequency of the light, and we can measure the\n",
    "  energy of an ejected electron by measuring the voltage $V$ that is just\n",
    "  sufficient to stop the electron moving.  Then the voltage, frequency, and\n",
    "  work function are related by the equation\n",
    "\n",
    "$$V = {h\\over e}\\nu - \\phi,$$\n",
    "\n",
    "where $e$ is the charge on the electron.  This equation was first given by\n",
    "Albert Einstein in 1905.\n",
    "\n",
    "The data in the file `millikan.txt` represent frequencies $\\nu$ in\n",
    "hertz (first column) and voltages $V$ in volts (second column) from\n",
    "photoelectric measurements of this kind.  Using the equation above and the\n",
    "program you wrote, and given that the charge on the electron is\n",
    "$1.602\\times10^{-19}\\,$C, calculate from Millikan's experimental data a\n",
    "value for Planck's constant.  Compare your value with the accepted value of\n",
    "the constant, which you can find in books or on-line.  You should get a\n",
    "result within a couple of percent of the accepted value.\n",
    "\n",
    "(5 points)\n",
    "\n",
    "This calculation is essentially the same as the one that Millikan himself\n",
    "used to determine of the value of Planck's constant, although, lacking a\n",
    "computer, he fitted his straight line to the data by eye.  In part for this\n",
    "work, Millikan was awarded the Nobel prize in physics in 1923."
   ]
  },
  {
   "cell_type": "markdown",
   "id": "be780fb8-369e-4579-bd77-bf9c2e9f076b",
   "metadata": {},
   "source": [
    "This cell is already set to markdown format. Use markdown format to express your answer."
   ]
  },
  {
   "cell_type": "markdown",
   "id": "4145f186-69fb-499a-b80d-bca0b339327a",
   "metadata": {},
   "source": [
    "Doing some quick calculator math, and using the real planck's constant($6.62607015 * 10^{-34}$) and my slope being $4.088227358517502*10^{-15}$. This resulted in my Planck's constant being $6.549340228345038204 * 10^{-34}$. Doing percent error, we get a error of 1.15%, something that is extremely close to what is needed!\n",
    "\n",
    "I used the equation $m = \\frac{h}{e}$ and multiplied across my electron voltage value to get my number. I then did percent error $P.E. = \\frac{Mine - Actual}{Actual} *100$"
   ]
  },
  {
   "cell_type": "markdown",
   "id": "48889594",
   "metadata": {},
   "source": []
  }
 ],
 "metadata": {
  "kernelspec": {
   "display_name": "Python 3 (ipykernel)",
   "language": "python",
   "name": "python3"
  },
  "language_info": {
   "codemirror_mode": {
    "name": "ipython",
    "version": 3
   },
   "file_extension": ".py",
   "mimetype": "text/x-python",
   "name": "python",
   "nbconvert_exporter": "python",
   "pygments_lexer": "ipython3",
   "version": "3.11.4"
  }
 },
 "nbformat": 4,
 "nbformat_minor": 5
}
